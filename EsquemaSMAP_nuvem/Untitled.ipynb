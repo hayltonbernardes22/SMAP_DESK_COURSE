{
 "cells": [
  {
   "cell_type": "code",
   "execution_count": 1,
   "metadata": {},
   "outputs": [],
   "source": [
    "rm(list=ls())\n",
    "\n",
    "#library(openair)\n",
    "library(parallel)\n",
    "\n",
    "setwd(\"/home/jrosas/SMAP_CLOUD/SMAP_DESK_COURSE/EsquemaSMAP_nuvem/\")\n",
    "\n",
    "source(\"functions_SMAP_novoVies_parallel.R\")"
   ]
  },
  {
   "cell_type": "code",
   "execution_count": 10,
   "metadata": {},
   "outputs": [],
   "source": [
    "load(\"Parametros.RData\")\n",
    "\n",
    "#datename <- \"xtodayx\"\n",
    "date_file <- \"20200624\"\n",
    "datename <- date_file\n",
    "\n",
    "subname <- vertudo$subbacia\n",
    "bigname <- vertudo$bacia\n",
    "\n",
    "namesObs <- c(\"QQueixo\",\"ESPORA\", \"QM\", \"Monjolinho\", \"StaClara\", \"EDACUNHA\", \"ESouza\", \"JordSeg\", \"FozChapeco\", \"Machadinho\", \"CAPESCURO\",\n",
    "              \"FOA\", \"Camargos\", \"PBUENOS\", \"CORUMBAIV\", \"FUNIL MG\", \"PARAGUACU\", \"Chavantes\", \"SDO\",\"SJoao\", \"SDOFACAO\", \"RB-SMAP\", \n",
    "              \"Ibitinga\",\"SALTOVERDI\",\"BG\", \"Ita\", \"CanoasI\", \"Flor+Estra\", \"CN\", \"Maua\", \"NOVAPONTE\", \"Rosana\", \"PASSAGEM\", \"NAvanhanda\", \n",
    "              \"Jurumirim\", \"SCaxias\", \"EMBORCACAO\", \"PCOLOMBIA\", \"MARIMBONDO\", \"FURNAS\", \"CORUMBA1\", \"AVERMELHA\", \"Balsa\", \"ITUMBIARA\",\n",
    "              \"UVitoria\", \"Capivara\", \"BBonita\",\"JUPIA\", \"SFR2\", \"RVerde\", \"Ivinhema\", \"PTaquara\", \"TM-SMAP\",\"ILHAEQUIV\", \"SSIMAO2\", \"Itaipu\", \"SMesa\",\"PPRI\",\"SRM2\")\n",
    "\n",
    "\n",
    "folder <- paste(\"Modelos_Chuva_Vazao_\", date_file, sep=\"\")"
   ]
  },
  {
   "cell_type": "code",
   "execution_count": 5,
   "metadata": {},
   "outputs": [],
   "source": [
    "folder <- paste(\"Modelos_Chuva_Vazao_\", date_file, sep=\"\")\n",
    "saidas_bkup <- list()\n",
    "lag<-1\n",
    "tstart <- Sys.time()\n",
    "mainONS <- function(datename, folder, subname, bigname, namesObs, vertudo,lag,i){\n",
    "\n",
    "  setwd(\"/home/jrosas/SMAP_CLOUD/SMAP_DESK_COURSE/EsquemaSMAP_nuvem/\")\n",
    "  print(subname)\n",
    "  dir <- paste(folder, \"/SMAP/\", bigname, \"/ARQ_ENTRADA/\", sep=\"\")\n",
    "  modname <- \"GEFS\"\n",
    "  if(length(Sys.glob(paste(dir, \"*\", sep=\"\"))) > 0){\n",
    "    \n",
    "    valoresInicializacao <- readInic(dir, subname)\n",
    "    datei <- valoresInicializacao$date\n",
    "    diasWarm <- as.integer(valoresInicializacao$infos[1])\n",
    "#   diasPrev <- as.integer(valoresInicializacao$infos[2])\n",
    "    diasPrev <- 12\n",
    "    ebin <- valoresInicializacao$infos[3]\n",
    "    supin <- valoresInicializacao$infos[4]\n",
    "    tuin <- valoresInicializacao$infos[5]\n",
    "    \n",
    "    mod <- geraSerieChuvaModel(dir, subname, modname)  \n",
    "    obs <- geraSerieObservada(dir, subname)   # Observed rainfall serie\n",
    "     \n",
    "    # Set the parameters to the especific sub-basin\n",
    "    param <- vertudo[vertudo$subbacia == subname,-1]\n",
    "    y <- param[, substr(names(param),1,3) == \"kt_\"]\n",
    "    y <- y[!is.na(y)]\n",
    "    y <- length(y)-3\n",
    "    \n",
    "    # Applies the time coefficients and pcoef to the rain series (for optimization)\n",
    "    df <- geraChuvaSMAP(datei, diasWarm, diasPrev, mod, obs, vertudo, param$pcof, subname, y, lag)\n",
    "    df_previsao <- df[[2]]\n",
    "    df <- df[[1]]\n",
    "    \n",
    "    # Opens the streamflow observed data\n",
    "    vaz <- leVazaoObs(dir, subname)\n",
    "    vaz <- merge(vaz, df, all.y=T)[,c(1,2)]  # set the same time period to optimization\n",
    "    vaz <- vaz[!is.na(vaz$vazaoObs),]\n",
    "    \n",
    "    # Opens the evapotranspiration serie\n",
    "    evapo <- read.table(paste(dir,subname,\"_EVAPOTRANSPIRACAO.txt\", sep=\"\"))\n",
    "    evapo_prev <- evapo[as.numeric(format(df_previsao$date, \"%m\")),2]\n",
    "    evapo <- evapo[as.numeric(format(df$date, \"%m\")),2]\n",
    "    \n",
    "    bat_pars <- readBat(dir)\n",
    "    Lower = c(rep(param$inf_chuva,31), param$inf_ebin*ebin, 0)\n",
    "    Upper = c(rep(param$sup_chuva,31), param$sup_ebin*ebin, 1000000)\n",
    "    cal <- bat_optim_leo(D=33, NP=as.numeric(bat_pars[4,2]), N_Gen=5000, A=as.numeric(bat_pars[1,2]), gamma=as.numeric(bat_pars[5,2]), Lower, Upper, tuin,\n",
    "                         param, df, evapo, vaz$vazaoObs,\n",
    "                         alvo=as.numeric(bat_pars[2,2]), semente=as.numeric(bat_pars[11,2]), constA=as.numeric(bat_pars[6,2]), \n",
    "                         constB=as.numeric(bat_pars[7,2]), ipeso=bat_pars[9,2], tipo=bat_pars[8,2])\n",
    "    \n",
    "    \n",
    "    setwd(dir)\n",
    "    \n",
    "    chuvafinal <- rbind(df, df_previsao)\n",
    "    evapofinal <- c(evapo, evapo_prev)\n",
    "    pesosfinal <- c(cal[1:31], rep(1,length(df_previsao$date)))\n",
    "    \n",
    "    \n",
    "    qprev <- data.frame(date=chuvafinal$date, vaz=smap(tuin, cal[32], cal[33],\n",
    "                                                       param$Area,\n",
    "                                                       param$kkt, param$k1t, param$k2t, param$k2t2, param$k3t,\n",
    "                                                       param$str, param$crec, param$ai, param$capc,\n",
    "                                                       param$H, param$H1,\n",
    "                                                       param$pcof, param$ecof, param$ecof2,\n",
    "                                                       evapofinal, chuvafinal,\n",
    "                                                       pesosfinal,\n",
    "                                                       0))\n",
    "    \n",
    "    #qprev <- qprev[,1:2]\n",
    "    names(qprev)[2] <- subname\n",
    "    \n",
    "    return(qprev[,1:2])\n",
    "    \n",
    "  }\n",
    "  \n",
    "  \n",
    "}\n"
   ]
  },
  {
   "cell_type": "code",
   "execution_count": 17,
   "metadata": {},
   "outputs": [
    {
     "name": "stdout",
     "output_type": "stream",
     "text": [
      "[1] \"MARIMBONDO\"\n",
      "[1] \"240620\"\n",
      "[1] 12\n",
      "          date    mediaT\n",
      "1   2020-05-21 0.0000000\n",
      "2   2020-05-22 0.0000000\n",
      "3   2020-05-23 3.2735500\n",
      "4   2020-05-24 3.6201750\n",
      "5   2020-05-25 1.0610250\n",
      "6   2020-05-26 0.6556500\n",
      "7   2020-05-27 0.0000000\n",
      "8   2020-05-28 0.0000000\n",
      "9   2020-05-29 0.0000000\n",
      "10  2020-05-30 0.0000000\n",
      "11  2020-05-31 0.0000000\n",
      "12  2020-06-01 0.0000000\n",
      "13  2020-06-02 0.0000000\n",
      "14  2020-06-03 0.1727250\n",
      "15  2020-06-04 0.1727250\n",
      "16  2020-06-05 0.1480500\n",
      "17  2020-06-06 1.2666500\n",
      "18  2020-06-07 2.0233500\n",
      "19  2020-06-08 1.8424000\n",
      "20  2020-06-09 0.9611500\n",
      "21  2020-06-10 0.3125500\n",
      "22  2020-06-11 0.2679000\n",
      "23  2020-06-12 0.0000000\n",
      "24  2020-06-13 0.0000000\n",
      "25  2020-06-14 0.0000000\n",
      "26  2020-06-15 0.0000000\n",
      "27  2020-06-16 0.0000000\n",
      "28  2020-06-17 0.0000000\n",
      "29  2020-06-18 0.0000000\n",
      "30  2020-06-19 0.0041125\n",
      "31  2020-06-20 0.0041125\n",
      "32  2020-06-21 0.0035250\n",
      "33  2020-06-22 0.0000000\n",
      "34  2020-06-23 0.0000000\n",
      "35  2020-06-24 0.0000000\n",
      "71  2020-06-25 0.0000000\n",
      "81  2020-06-26 0.0230300\n",
      "91  2020-06-27 0.7238000\n",
      "101 2020-06-28 1.0495100\n",
      "111 2020-06-29 1.2849800\n",
      "121 2020-06-30 0.8051100\n",
      "110 2020-07-01 1.9627200\n",
      "210 2020-07-02 4.0128600\n",
      "36  2020-07-03 5.3866700\n",
      "42  2020-07-04 4.9669600\n",
      "52  2020-07-05 3.2007000\n",
      "61  2020-07-06 2.2873725\n",
      "131 2020-07-07 1.9277050\n",
      "211 2020-07-08 2.1173500\n",
      "311 2020-07-09 1.3762775\n",
      "41  2020-07-10 0.0000000\n",
      "51  2020-07-11 0.0000000\n"
     ]
    },
    {
     "name": "stderr",
     "output_type": "stream",
     "text": [
      "Warning message in readLines(paste(dir, \"bat.conf\", sep = \"\")):\n",
      "“incomplete final line found on 'Modelos_Chuva_Vazao_20200624/SMAP/Grande/ARQ_ENTRADA/bat.conf'”"
     ]
    },
    {
     "name": "stdout",
     "output_type": "stream",
     "text": [
      "    Area str k2t crec ai capc kkt k2t2  H1   H k3t k1t ecof pcof ecof2 sup_ebin\n",
      "40 20046 252 3.5  100  1   30 180   10 200 200  10  10 0.81 0.94     0      1.2\n",
      "   inf_ebin sup_chuva inf_chuva kt_1 kt_2 kt_3 kt_4 kt_5   subbacia  bacia kt_6\n",
      "40      0.8         2       0.5    0  0.3 0.35 0.35    0 MARIMBONDO Grande   NA\n",
      "   kt_7 kt_8 kt_9 kt_10 kt_11 kt_12 kt_13 kt_14 kt_15 kt_16 kt_17 kt_18\n",
      "40   NA   NA   NA    NA    NA    NA    NA    NA    NA    NA    NA    NA\n",
      "Initializing the virtual microbats...\n",
      "Finding the best bat\n",
      "Moving the bats via random walk\n"
     ]
    },
    {
     "data": {
      "text/html": [
       "<table>\n",
       "<thead><tr><th scope=col>date</th><th scope=col>MARIMBONDO</th></tr></thead>\n",
       "<tbody>\n",
       "\t<tr><td>2020-05-24</td><td>155.5554  </td></tr>\n",
       "\t<tr><td>2020-05-25</td><td>155.0935  </td></tr>\n",
       "\t<tr><td>2020-05-26</td><td>154.4735  </td></tr>\n",
       "\t<tr><td>2020-05-27</td><td>153.8602  </td></tr>\n",
       "\t<tr><td>2020-05-28</td><td>153.2528  </td></tr>\n",
       "\t<tr><td>2020-05-29</td><td>152.6506  </td></tr>\n",
       "\t<tr><td>2020-05-30</td><td>152.0531  </td></tr>\n",
       "\t<tr><td>2020-05-31</td><td>151.4598  </td></tr>\n",
       "\t<tr><td>2020-06-01</td><td>150.8704  </td></tr>\n",
       "\t<tr><td>2020-06-02</td><td>150.2845  </td></tr>\n",
       "\t<tr><td>2020-06-03</td><td>149.7020  </td></tr>\n",
       "\t<tr><td>2020-06-04</td><td>149.1226  </td></tr>\n",
       "\t<tr><td>2020-06-05</td><td>148.5462  </td></tr>\n",
       "\t<tr><td>2020-06-06</td><td>147.9726  </td></tr>\n",
       "\t<tr><td>2020-06-07</td><td>147.8701  </td></tr>\n",
       "\t<tr><td>2020-06-08</td><td>149.0528  </td></tr>\n",
       "\t<tr><td>2020-06-09</td><td>149.5216  </td></tr>\n",
       "\t<tr><td>2020-06-10</td><td>148.3735  </td></tr>\n",
       "\t<tr><td>2020-06-11</td><td>147.3329  </td></tr>\n",
       "\t<tr><td>2020-06-12</td><td>146.3808  </td></tr>\n",
       "\t<tr><td>2020-06-13</td><td>145.5017  </td></tr>\n",
       "\t<tr><td>2020-06-14</td><td>144.6828  </td></tr>\n",
       "\t<tr><td>2020-06-15</td><td>143.9137  </td></tr>\n",
       "\t<tr><td>2020-06-16</td><td>143.1859  </td></tr>\n",
       "\t<tr><td>2020-06-17</td><td>142.4922  </td></tr>\n",
       "\t<tr><td>2020-06-18</td><td>141.8269  </td></tr>\n",
       "\t<tr><td>2020-06-19</td><td>141.1854  </td></tr>\n",
       "\t<tr><td>2020-06-20</td><td>140.5636  </td></tr>\n",
       "\t<tr><td>2020-06-21</td><td>139.9585  </td></tr>\n",
       "\t<tr><td>2020-06-22</td><td>139.3673  </td></tr>\n",
       "\t<tr><td>2020-06-23</td><td>138.7880  </td></tr>\n",
       "\t<tr><td>2020-06-24</td><td>138.2187  </td></tr>\n",
       "\t<tr><td>2020-06-25</td><td>137.6581  </td></tr>\n",
       "\t<tr><td>2020-06-26</td><td>137.1049  </td></tr>\n",
       "\t<tr><td>2020-06-27</td><td>136.5582  </td></tr>\n",
       "\t<tr><td>2020-06-28</td><td>136.0171  </td></tr>\n",
       "\t<tr><td>2020-06-29</td><td>135.4815  </td></tr>\n",
       "\t<tr><td>2020-06-30</td><td>134.9654  </td></tr>\n",
       "\t<tr><td>2020-07-01</td><td>134.4349  </td></tr>\n",
       "\t<tr><td>2020-07-02</td><td>134.0860  </td></tr>\n",
       "\t<tr><td>2020-07-03</td><td>135.2516  </td></tr>\n",
       "\t<tr><td>2020-07-04</td><td>138.0279  </td></tr>\n",
       "\t<tr><td>2020-07-05</td><td>139.5831  </td></tr>\n",
       "\t<tr><td>2020-07-06</td><td>138.7067  </td></tr>\n",
       "</tbody>\n",
       "</table>\n"
      ],
      "text/latex": [
       "\\begin{tabular}{r|ll}\n",
       " date & MARIMBONDO\\\\\n",
       "\\hline\n",
       "\t 2020-05-24 & 155.5554  \\\\\n",
       "\t 2020-05-25 & 155.0935  \\\\\n",
       "\t 2020-05-26 & 154.4735  \\\\\n",
       "\t 2020-05-27 & 153.8602  \\\\\n",
       "\t 2020-05-28 & 153.2528  \\\\\n",
       "\t 2020-05-29 & 152.6506  \\\\\n",
       "\t 2020-05-30 & 152.0531  \\\\\n",
       "\t 2020-05-31 & 151.4598  \\\\\n",
       "\t 2020-06-01 & 150.8704  \\\\\n",
       "\t 2020-06-02 & 150.2845  \\\\\n",
       "\t 2020-06-03 & 149.7020  \\\\\n",
       "\t 2020-06-04 & 149.1226  \\\\\n",
       "\t 2020-06-05 & 148.5462  \\\\\n",
       "\t 2020-06-06 & 147.9726  \\\\\n",
       "\t 2020-06-07 & 147.8701  \\\\\n",
       "\t 2020-06-08 & 149.0528  \\\\\n",
       "\t 2020-06-09 & 149.5216  \\\\\n",
       "\t 2020-06-10 & 148.3735  \\\\\n",
       "\t 2020-06-11 & 147.3329  \\\\\n",
       "\t 2020-06-12 & 146.3808  \\\\\n",
       "\t 2020-06-13 & 145.5017  \\\\\n",
       "\t 2020-06-14 & 144.6828  \\\\\n",
       "\t 2020-06-15 & 143.9137  \\\\\n",
       "\t 2020-06-16 & 143.1859  \\\\\n",
       "\t 2020-06-17 & 142.4922  \\\\\n",
       "\t 2020-06-18 & 141.8269  \\\\\n",
       "\t 2020-06-19 & 141.1854  \\\\\n",
       "\t 2020-06-20 & 140.5636  \\\\\n",
       "\t 2020-06-21 & 139.9585  \\\\\n",
       "\t 2020-06-22 & 139.3673  \\\\\n",
       "\t 2020-06-23 & 138.7880  \\\\\n",
       "\t 2020-06-24 & 138.2187  \\\\\n",
       "\t 2020-06-25 & 137.6581  \\\\\n",
       "\t 2020-06-26 & 137.1049  \\\\\n",
       "\t 2020-06-27 & 136.5582  \\\\\n",
       "\t 2020-06-28 & 136.0171  \\\\\n",
       "\t 2020-06-29 & 135.4815  \\\\\n",
       "\t 2020-06-30 & 134.9654  \\\\\n",
       "\t 2020-07-01 & 134.4349  \\\\\n",
       "\t 2020-07-02 & 134.0860  \\\\\n",
       "\t 2020-07-03 & 135.2516  \\\\\n",
       "\t 2020-07-04 & 138.0279  \\\\\n",
       "\t 2020-07-05 & 139.5831  \\\\\n",
       "\t 2020-07-06 & 138.7067  \\\\\n",
       "\\end{tabular}\n"
      ],
      "text/markdown": [
       "\n",
       "| date | MARIMBONDO |\n",
       "|---|---|\n",
       "| 2020-05-24 | 155.5554   |\n",
       "| 2020-05-25 | 155.0935   |\n",
       "| 2020-05-26 | 154.4735   |\n",
       "| 2020-05-27 | 153.8602   |\n",
       "| 2020-05-28 | 153.2528   |\n",
       "| 2020-05-29 | 152.6506   |\n",
       "| 2020-05-30 | 152.0531   |\n",
       "| 2020-05-31 | 151.4598   |\n",
       "| 2020-06-01 | 150.8704   |\n",
       "| 2020-06-02 | 150.2845   |\n",
       "| 2020-06-03 | 149.7020   |\n",
       "| 2020-06-04 | 149.1226   |\n",
       "| 2020-06-05 | 148.5462   |\n",
       "| 2020-06-06 | 147.9726   |\n",
       "| 2020-06-07 | 147.8701   |\n",
       "| 2020-06-08 | 149.0528   |\n",
       "| 2020-06-09 | 149.5216   |\n",
       "| 2020-06-10 | 148.3735   |\n",
       "| 2020-06-11 | 147.3329   |\n",
       "| 2020-06-12 | 146.3808   |\n",
       "| 2020-06-13 | 145.5017   |\n",
       "| 2020-06-14 | 144.6828   |\n",
       "| 2020-06-15 | 143.9137   |\n",
       "| 2020-06-16 | 143.1859   |\n",
       "| 2020-06-17 | 142.4922   |\n",
       "| 2020-06-18 | 141.8269   |\n",
       "| 2020-06-19 | 141.1854   |\n",
       "| 2020-06-20 | 140.5636   |\n",
       "| 2020-06-21 | 139.9585   |\n",
       "| 2020-06-22 | 139.3673   |\n",
       "| 2020-06-23 | 138.7880   |\n",
       "| 2020-06-24 | 138.2187   |\n",
       "| 2020-06-25 | 137.6581   |\n",
       "| 2020-06-26 | 137.1049   |\n",
       "| 2020-06-27 | 136.5582   |\n",
       "| 2020-06-28 | 136.0171   |\n",
       "| 2020-06-29 | 135.4815   |\n",
       "| 2020-06-30 | 134.9654   |\n",
       "| 2020-07-01 | 134.4349   |\n",
       "| 2020-07-02 | 134.0860   |\n",
       "| 2020-07-03 | 135.2516   |\n",
       "| 2020-07-04 | 138.0279   |\n",
       "| 2020-07-05 | 139.5831   |\n",
       "| 2020-07-06 | 138.7067   |\n",
       "\n"
      ],
      "text/plain": [
       "   date       MARIMBONDO\n",
       "1  2020-05-24 155.5554  \n",
       "2  2020-05-25 155.0935  \n",
       "3  2020-05-26 154.4735  \n",
       "4  2020-05-27 153.8602  \n",
       "5  2020-05-28 153.2528  \n",
       "6  2020-05-29 152.6506  \n",
       "7  2020-05-30 152.0531  \n",
       "8  2020-05-31 151.4598  \n",
       "9  2020-06-01 150.8704  \n",
       "10 2020-06-02 150.2845  \n",
       "11 2020-06-03 149.7020  \n",
       "12 2020-06-04 149.1226  \n",
       "13 2020-06-05 148.5462  \n",
       "14 2020-06-06 147.9726  \n",
       "15 2020-06-07 147.8701  \n",
       "16 2020-06-08 149.0528  \n",
       "17 2020-06-09 149.5216  \n",
       "18 2020-06-10 148.3735  \n",
       "19 2020-06-11 147.3329  \n",
       "20 2020-06-12 146.3808  \n",
       "21 2020-06-13 145.5017  \n",
       "22 2020-06-14 144.6828  \n",
       "23 2020-06-15 143.9137  \n",
       "24 2020-06-16 143.1859  \n",
       "25 2020-06-17 142.4922  \n",
       "26 2020-06-18 141.8269  \n",
       "27 2020-06-19 141.1854  \n",
       "28 2020-06-20 140.5636  \n",
       "29 2020-06-21 139.9585  \n",
       "30 2020-06-22 139.3673  \n",
       "31 2020-06-23 138.7880  \n",
       "32 2020-06-24 138.2187  \n",
       "33 2020-06-25 137.6581  \n",
       "34 2020-06-26 137.1049  \n",
       "35 2020-06-27 136.5582  \n",
       "36 2020-06-28 136.0171  \n",
       "37 2020-06-29 135.4815  \n",
       "38 2020-06-30 134.9654  \n",
       "39 2020-07-01 134.4349  \n",
       "40 2020-07-02 134.0860  \n",
       "41 2020-07-03 135.2516  \n",
       "42 2020-07-04 138.0279  \n",
       "43 2020-07-05 139.5831  \n",
       "44 2020-07-06 138.7067  "
      ]
     },
     "metadata": {},
     "output_type": "display_data"
    }
   ],
   "source": [
    "\n",
    "x<-40\n",
    "mainONS(datename, folder, subname[x], bigname[x], namesObs[x], vertudo,lag,x)\n",
    "\n"
   ]
  },
  {
   "cell_type": "code",
   "execution_count": 7,
   "metadata": {},
   "outputs": [
    {
     "data": {
      "text/html": [
       "'20200624'"
      ],
      "text/latex": [
       "'20200624'"
      ],
      "text/markdown": [
       "'20200624'"
      ],
      "text/plain": [
       "[1] \"20200624\""
      ]
     },
     "metadata": {},
     "output_type": "display_data"
    }
   ],
   "source": [
    "datename"
   ]
  },
  {
   "cell_type": "code",
   "execution_count": 8,
   "metadata": {},
   "outputs": [
    {
     "data": {
      "text/html": [
       "1"
      ],
      "text/latex": [
       "1"
      ],
      "text/markdown": [
       "1"
      ],
      "text/plain": [
       "[1] 1"
      ]
     },
     "metadata": {},
     "output_type": "display_data"
    }
   ],
   "source": [
    "lag"
   ]
  },
  {
   "cell_type": "code",
   "execution_count": 9,
   "metadata": {},
   "outputs": [
    {
     "ename": "ERROR",
     "evalue": "Error in eval(expr, envir, enclos): object 'x' not found\n",
     "output_type": "error",
     "traceback": [
      "Error in eval(expr, envir, enclos): object 'x' not found\nTraceback:\n"
     ]
    }
   ],
   "source": [
    "namesObs[x]"
   ]
  },
  {
   "cell_type": "code",
   "execution_count": 12,
   "metadata": {},
   "outputs": [
    {
     "ename": "ERROR",
     "evalue": "Error in eval(expr, envir, enclos): object 'x' not found\n",
     "output_type": "error",
     "traceback": [
      "Error in eval(expr, envir, enclos): object 'x' not found\nTraceback:\n"
     ]
    }
   ],
   "source": [
    "namesObs[x]"
   ]
  },
  {
   "cell_type": "code",
   "execution_count": null,
   "metadata": {},
   "outputs": [],
   "source": []
  }
 ],
 "metadata": {
  "kernelspec": {
   "display_name": "R",
   "language": "R",
   "name": "ir"
  },
  "language_info": {
   "codemirror_mode": "r",
   "file_extension": ".r",
   "mimetype": "text/x-r-source",
   "name": "R",
   "pygments_lexer": "r",
   "version": "3.6.1"
  }
 },
 "nbformat": 4,
 "nbformat_minor": 4
}
